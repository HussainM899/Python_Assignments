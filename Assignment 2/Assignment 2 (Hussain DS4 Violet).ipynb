{
 "cells": [
  {
   "cell_type": "markdown",
   "metadata": {},
   "source": [
    "# **Assignment 2 - Python**"
   ]
  },
  {
   "cell_type": "markdown",
   "metadata": {},
   "source": [
    "### Task 1: You are creating a Python program to simulate a simple guessing game. The game will have the following rules:\n"
   ]
  },
  {
   "cell_type": "markdown",
   "metadata": {},
   "source": [
    "1.\tThe program will generate a random number between 1 and 50 and store it in a variable called \"secret_number.\" For this, you will need to import randint() from the random library in python. Run the following line of code in a cell:\n",
    "from random import randint\n",
    "2.\tThe user will be given 5 attempts to guess the \"secret_number.\"\n",
    "3.\tThe program will use a while loop to repeatedly ask the user for their guess and provide feedback based on their input. (Remember that input() returns a string even if the user enters a number.) \n",
    "4.\tFirst, handle the case where the user enters a non-numeric input. For this, you will need to add a try/except block. Google the syntax and under the try block, convert the guess into an int. If the entry is non-numeric, this conversion should fail and python will go to the except block. Under the except block, handle this error by printing \"Invalid input! Please enter a valid number” and utilize the continue statement to allow the user to try again without reducing their remaining attempts.\n",
    "5.\tIf the user guesses the correct number, print \"Congratulations! You guessed the secret number [secret_number] correctly!\" and break out of the loop.\n",
    "6.\tIf the user's guess is too high, print \"Try again! Your guess is too high. You have [attempts_left] attempts left.\" where \"attempts_left\" is the number of remaining attempts.\n",
    "7.\tIf the user's guess is too low, print \"Try again! Your guess is too low. You have [attempts_left] attempts left.\"\n",
    "8.\tIf the user runs out of attempts, print \"Game Over! The secret number was [secret_number]. Better luck next time!\" and break out of the loop.\n"
   ]
  },
  {
   "cell_type": "markdown",
   "metadata": {},
   "source": [
    "### Case 1: When we guess the number correctly"
   ]
  },
  {
   "cell_type": "code",
   "execution_count": 1,
   "metadata": {},
   "outputs": [
    {
     "name": "stdout",
     "output_type": "stream",
     "text": [
      "----- Welcome to Guessing Number Game -----\n"
     ]
    },
    {
     "name": "stdout",
     "output_type": "stream",
     "text": [
      "Enter Guess: 520\n"
     ]
    },
    {
     "name": "stdout",
     "output_type": "stream",
     "text": [
      "You entered 520 as a guess\n",
      "Try again! Your guess is too high. You have 4 attempts left.\n"
     ]
    },
    {
     "name": "stdout",
     "output_type": "stream",
     "text": [
      "Enter Guess: 53\n"
     ]
    },
    {
     "name": "stdout",
     "output_type": "stream",
     "text": [
      "You entered 53 as a guess\n",
      "Try again! Your guess is too high. You have 3 attempts left.\n"
     ]
    },
    {
     "name": "stdout",
     "output_type": "stream",
     "text": [
      "Enter Guess: 63\n"
     ]
    },
    {
     "name": "stdout",
     "output_type": "stream",
     "text": [
      "You entered 63 as a guess\n",
      "Try again! Your guess is too high. You have 2 attempts left.\n"
     ]
    },
    {
     "name": "stdout",
     "output_type": "stream",
     "text": [
      "Enter Guess: 31\n"
     ]
    },
    {
     "name": "stdout",
     "output_type": "stream",
     "text": [
      "You entered 31 as a guess\n",
      "Try again! Your guess is too high. You have 1 attempts left.\n"
     ]
    },
    {
     "name": "stdout",
     "output_type": "stream",
     "text": [
      "Enter Guess: 66\n"
     ]
    },
    {
     "name": "stdout",
     "output_type": "stream",
     "text": [
      "You entered 66 as a guess\n",
      "Game Over!, The Guess number was 11. Better Luck next time.\n"
     ]
    }
   ],
   "source": [
    "from random import randint\n",
    "\n",
    "#Computer generates a random number\n",
    "secret_number = randint(1,51)\n",
    "user_try = 0\n",
    "\n",
    "#Creating while loop\n",
    "\n",
    "max_attempts = 5\n",
    "print(\"----- Welcome to Guessing Number Game -----\")\n",
    "\n",
    "while user_try < max_attempts:\n",
    "    user_try +=1\n",
    "\n",
    "#Using Try/Except block to check if the user entered string or integer\n",
    "    try:\n",
    "        \n",
    "        user_input = input(\"Enter Guess:\")\n",
    "        user_input = int(user_input)\n",
    "        print(f\"You entered {user_input} as a guess\")\n",
    "    except ValueError:\n",
    "        print(\"Invalid Input, Please enter a number\")\n",
    "        continue\n",
    "\n",
    "#Applying If Elif Else functions to compare the guess number to secret number\n",
    "    if user_input == secret_number:\n",
    "        print(F\"Congratulations! You guessed the secret number {secret_number} correctly!\")\n",
    "        break\n",
    "    elif user_input > secret_number:\n",
    "        attempts_left = max_attempts - user_try\n",
    "        if attempts_left == 0:\n",
    "            print(f\"Game Over!, The Guess number was {secret_number}. Better Luck next time.\")\n",
    "        else:\n",
    "            print(F\"Try again! Your guess is too high. You have {attempts_left} attempts left.\")\n",
    "    else:\n",
    "        attempts_left = max_attempts - user_try\n",
    "        if attempts_left == 0:\n",
    "            print(f\"Game Over!, The Guess number was {secret_number}. Better Luck next time.\")\n",
    "        else:\n",
    "            print(F\"Try again! Your guess is too Low. You have {attempts_left} attempts left.\")    "
   ]
  },
  {
   "cell_type": "markdown",
   "metadata": {},
   "source": [
    "### Case 2: When don't we guess the number correctly"
   ]
  },
  {
   "cell_type": "code",
   "execution_count": 88,
   "metadata": {},
   "outputs": [
    {
     "name": "stdout",
     "output_type": "stream",
     "text": [
      "----- Welcome to Guessing Number Game -----\n",
      "You entered 65 as a guess\n",
      "Try again! Your guess is too high. You have 4 attempts left.\n",
      "You entered 32 as a guess\n",
      "Try again! Your guess is too high. You have 3 attempts left.\n",
      "You entered 68 as a guess\n",
      "Try again! Your guess is too high. You have 2 attempts left.\n",
      "You entered 15 as a guess\n",
      "Try again! Your guess is too high. You have 1 attempts left.\n",
      "You entered 38 as a guess\n",
      "Game Over!, The Guess number was 6. Better Luck next time.\n"
     ]
    }
   ],
   "source": [
    "from random import randint\n",
    "\n",
    "#Computer generates a random number\n",
    "secret_number = randint(1,51)\n",
    "user_try = 0\n",
    "\n",
    "#Creating while loop\n",
    "\n",
    "max_attempts = 5\n",
    "print(\"----- Welcome to Guessing Number Game -----\")\n",
    "\n",
    "while user_try < max_attempts:\n",
    "    user_try +=1\n",
    "\n",
    "#Using Try/Except block to check if the user entered string or integer\n",
    "    try:\n",
    "        \n",
    "        user_input = input(\"Enter Guess:\")\n",
    "        user_input = int(user_input)\n",
    "        print(f\"You entered {user_input} as a guess\")\n",
    "    except ValueError:\n",
    "        print(\"Invalid Input, Please enter a number\")\n",
    "        continue\n",
    "\n",
    "#Applying If Elif Else functions to compare the guess number to secret number\n",
    "    if user_input == secret_number:\n",
    "        print(F\"Congratulations! You guessed the secret number {secret_number} correctly!\")\n",
    "        break\n",
    "    elif user_input > secret_number:\n",
    "        attempts_left = max_attempts - user_try\n",
    "        if attempts_left == 0:\n",
    "            print(f\"Game Over!, The Guess number was {secret_number}. Better Luck next time.\")\n",
    "        else:\n",
    "            print(F\"Try again! Your guess is too high. You have {attempts_left} attempts left.\")\n",
    "    else:\n",
    "        attempts_left = max_attempts - user_try\n",
    "        if attempts_left == 0:\n",
    "            print(f\"Game Over!, The Guess number was {secret_number}. Better Luck next time.\")\n",
    "        else:\n",
    "            print(F\"Try again! Your guess is too Low. You have {attempts_left} attempts left.\")"
   ]
  },
  {
   "cell_type": "markdown",
   "metadata": {},
   "source": [
    "### Task 2:\n",
    "1. Write a function called num_vowels that takes in a string as an argument, and returns the number of vowels in that string. Print out the result for the string “Learning Python is fun and engaging.”"
   ]
  },
  {
   "cell_type": "code",
   "execution_count": 16,
   "metadata": {},
   "outputs": [
    {
     "name": "stdout",
     "output_type": "stream",
     "text": [
      "There are 10 vowels in this string.\n"
     ]
    }
   ],
   "source": [
    "#Defining a function to run this program\n",
    "def num_vowels(string):\n",
    "    \n",
    "    count = 0\n",
    "\n",
    "#Providing a list of Vowels\n",
    "    vowels = \"aeiouAEIOU\"\n",
    "\n",
    "#Using FOR loop to iterate through each character in the string \n",
    "    for vow in string:\n",
    "        if vow in vowels:\n",
    "            count +=1\n",
    "    print(f\"There are {count} vowels in this string.\")\n",
    "\n",
    "#Calling Function\n",
    "num_vowels(\"Learning Python is fun and engaging\")"
   ]
  },
  {
   "cell_type": "markdown",
   "metadata": {},
   "source": [
    "2. Create a function called hours_to_min that converts hours into minutes. The function should take the number of hours as input and return the equivalent number of minutes. Test the function with 2.5 hours and print the result."
   ]
  },
  {
   "cell_type": "code",
   "execution_count": 9,
   "metadata": {},
   "outputs": [
    {
     "name": "stdout",
     "output_type": "stream",
     "text": [
      "2.5 Hours = 150.0 Minutes\n"
     ]
    },
    {
     "data": {
      "text/plain": [
       "150.0"
      ]
     },
     "execution_count": 9,
     "metadata": {},
     "output_type": "execute_result"
    }
   ],
   "source": [
    "#Defining a function for conversion of hours to mins\n",
    "def hours_to_min (hours):\n",
    "\n",
    "#Calculating Hours to mins\n",
    "    minutes = hours * 60\n",
    "    print(f\"{hours} Hours = {minutes} Minutes\")\n",
    "    return minutes\n",
    "\n",
    "hours_to_min(2.5)"
   ]
  },
  {
   "cell_type": "markdown",
   "metadata": {},
   "source": [
    "3. Write a python function that takes in a number as an argument, and prints out the table of that number up to 12 times that number. You may name this whatever you wish. \n",
    "Sample output:"
   ]
  },
  {
   "cell_type": "code",
   "execution_count": 12,
   "metadata": {},
   "outputs": [
    {
     "name": "stdout",
     "output_type": "stream",
     "text": [
      "Multiplication of 5\n",
      "5 x 1 = 5\n",
      "5 x 2 = 10\n",
      "5 x 3 = 15\n",
      "5 x 4 = 20\n",
      "5 x 5 = 25\n",
      "5 x 6 = 30\n",
      "5 x 7 = 35\n",
      "5 x 8 = 40\n",
      "5 x 9 = 45\n",
      "5 x 10 = 50\n",
      "5 x 11 = 55\n",
      "5 x 12 = 60\n"
     ]
    }
   ],
   "source": [
    "#Defining function for multiplication\n",
    "def multiply():\n",
    "    num = int(input(\"Enter Number:\"))\n",
    "    print(f\"Multiplication of {num}\") \n",
    "    \n",
    "#Using for Loop to make table from 1-12\n",
    "    for i in range(1,13):\n",
    "        result = num*i\n",
    "        print(num, \"x\", i, \"=\", result)\n",
    "           \n",
    "#Calling function\n",
    "multiply()\n",
    "\n",
    "         "
   ]
  },
  {
   "cell_type": "markdown",
   "metadata": {},
   "source": [
    "4. In your previous assignment, you wrote code that checks if a student is eligible for admission to a university. Turn that code into a function called eligibility. The function should take two arguments: the student's age and their previous GPA. The eligibility criteria are as follows:\n",
    "- The student must be at least 18 years old.\n",
    "- The student's previous GPA must be 3.0 or higher on a scale of 4.0.\n",
    "The function should return True if the student meets both criteria, otherwise, return False. Test the function with different ages and GPAs with and without keywords for example:\n",
    "eligibility(30, 3.2) [will depend on which order you provided the positional arguments in the definition]\n",
    "eligibility(GPA = 2.9, age = 40)\n"
   ]
  },
  {
   "cell_type": "markdown",
   "metadata": {},
   "source": [
    "### Example 1"
   ]
  },
  {
   "cell_type": "code",
   "execution_count": 83,
   "metadata": {},
   "outputs": [
    {
     "name": "stdout",
     "output_type": "stream",
     "text": [
      "Eligible for Admission\n"
     ]
    },
    {
     "data": {
      "text/plain": [
       "True"
      ]
     },
     "execution_count": 83,
     "metadata": {},
     "output_type": "execute_result"
    }
   ],
   "source": [
    "#Defining a function for eligibility\n",
    "def eligiblity(age, GPA):\n",
    "    \n",
    "    #Using If conditions\n",
    "        if age >=18 and GPA>=3.0 and GPA<=4.0:\n",
    "            print(\"Eligible for Admission\")\n",
    "            return True\n",
    "        else:\n",
    "            print(\"Not Eligible for Admission\")\n",
    "            return False\n",
    "\n",
    "#Calling Function\n",
    "eligiblity(19, 3.8)"
   ]
  },
  {
   "cell_type": "markdown",
   "metadata": {},
   "source": [
    "### Example 2"
   ]
  },
  {
   "cell_type": "code",
   "execution_count": 82,
   "metadata": {},
   "outputs": [
    {
     "name": "stdout",
     "output_type": "stream",
     "text": [
      "Not Eligible for Admission\n"
     ]
    },
    {
     "data": {
      "text/plain": [
       "False"
      ]
     },
     "execution_count": 82,
     "metadata": {},
     "output_type": "execute_result"
    }
   ],
   "source": [
    "#Defining a function for eligibility\n",
    "def eligiblity(age, GPA):\n",
    "    \n",
    "    #Using If conditions\n",
    "        if age >=18 and GPA>=3.0 and GPA<=4.0:\n",
    "            print(\"Eligible for Admission\")\n",
    "            return True\n",
    "        else:\n",
    "            print(\"Not Eligible for Admission\")\n",
    "            return False\n",
    "\n",
    "#Calling Function\n",
    "eligiblity(age=17, GPA=2.8)"
   ]
  },
  {
   "cell_type": "markdown",
   "metadata": {},
   "source": [
    "## Thank you for reviewing this Assignment 😊"
   ]
  }
 ],
 "metadata": {
  "kernelspec": {
   "display_name": "Python 3 (ipykernel)",
   "language": "python",
   "name": "python3"
  },
  "language_info": {
   "codemirror_mode": {
    "name": "ipython",
    "version": 3
   },
   "file_extension": ".py",
   "mimetype": "text/x-python",
   "name": "python",
   "nbconvert_exporter": "python",
   "pygments_lexer": "ipython3",
   "version": "3.11.4"
  }
 },
 "nbformat": 4,
 "nbformat_minor": 4
}
