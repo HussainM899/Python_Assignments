{
 "cells": [
  {
   "cell_type": "markdown",
   "metadata": {},
   "source": [
    "Task 1: Variables and Data Types"
   ]
  },
  {
   "cell_type": "markdown",
   "metadata": {},
   "source": [
    "a) Create three variables: one for storing your age (integer), one for your name (string), and one to check if you are a student (Boolean). Print the variables."
   ]
  },
  {
   "cell_type": "code",
   "execution_count": 11,
   "metadata": {},
   "outputs": [
    {
     "name": "stdout",
     "output_type": "stream",
     "text": [
      "Your name is Hussain\n",
      "Your age is 15\n",
      "Student: True\n"
     ]
    }
   ],
   "source": [
    "name = input(\"Enter Name: \") #Enter you name\n",
    "age = int(input(\"Enter Age: \")) #Enter your age\n",
    "is_student = True #Student or not\n",
    "\n",
    "print(\"Your name is\", name)\n",
    "print(\"Your age is\", age)\n",
    "print(\"Student:\", is_student)"
   ]
  },
  {
   "cell_type": "markdown",
   "metadata": {},
   "source": [
    "b) Perform the following operations and print the results:\n",
    "   - Add 25 to your age variable.\n",
    "   - Concatenate your name with the string \"Smith.\"\n",
    "   - Negate the Boolean variable (if True, make it False, and vice versa).\n"
   ]
  },
  {
   "cell_type": "code",
   "execution_count": 41,
   "metadata": {},
   "outputs": [
    {
     "name": "stdout",
     "output_type": "stream",
     "text": [
      "Your name is Hussain Smith\n",
      "Your age is 35\n",
      "Student: True\n"
     ]
    }
   ],
   "source": [
    "name = input(\"Enter Name: \") #Enter you name\n",
    "age = int(input(\"Enter Age: \")) #Enter your age\n",
    "is_student = False #is Student\n",
    "not_student = not is_student\n",
    "\n",
    "\n",
    "print(\"Your name is\", name+str(\" Smith\"))\n",
    "print(\"Your age is\", age+25)\n",
    "print(\"Student:\", not_student)\n",
    "\n",
    "# if is_student.lower()==\"yes\":\n",
    "#     print(\"Student: True\")\n",
    "# else:\n",
    "#     is_student.lower()==\"no\"\n",
    "#     print(\"Student: False\")\n",
    "\n"
   ]
  },
  {
   "cell_type": "markdown",
   "metadata": {},
   "source": [
    "Task 2: Expressions and Operators"
   ]
  },
  {
   "cell_type": "markdown",
   "metadata": {},
   "source": [
    "a) A rectangle has a width of 5.5 units and a height of 3.25 units. Store width and height in variables. Create a new variable called area and write an expression to calculate the area. Print the area in the output. "
   ]
  },
  {
   "cell_type": "code",
   "execution_count": 19,
   "metadata": {},
   "outputs": [
    {
     "name": "stdout",
     "output_type": "stream",
     "text": [
      "Width= 5.5 units\n",
      "Height= 3.25 units\n",
      "Area of a Rectangle= 17.875 units\n"
     ]
    }
   ],
   "source": [
    "width = 5.5\n",
    "height = 3.25\n",
    "rect_area = width*height \n",
    "\n",
    "print (\"Width=\", width, \"units\")\n",
    "print(\"Height=\", height, \"units\")\n",
    "print(\"Area of a Rectangle=\", rect_area, \"units\")"
   ]
  },
  {
   "cell_type": "markdown",
   "metadata": {},
   "source": [
    "b) Create a temperature variable in Celsius. Convert it to Fahrenheit using the formula: F = (C * 9/5) + 32. Store this temperature in a variable called Fahrenheit and print this variable."
   ]
  },
  {
   "cell_type": "code",
   "execution_count": 21,
   "metadata": {},
   "outputs": [
    {
     "name": "stdout",
     "output_type": "stream",
     "text": [
      "Temperature in Celcius: 50.0\n",
      "Temperature in Fahrenheit: 122.0\n"
     ]
    }
   ],
   "source": [
    "celc_temp = float(input(\"Enter Temp in Celcius:\")) #User enter temperature in Celcius (Can be in decimal points too)\n",
    "farh_temp = (celc_temp*9/5)+32 #Conversion of Celcius to Fahrenheit\n",
    "\n",
    "print (\"Temperature in Celcius:\", celc_temp)\n",
    "print (\"Temperature in Fahrenheit:\", farh_temp)"
   ]
  },
  {
   "cell_type": "markdown",
   "metadata": {},
   "source": [
    "c) Create a variable called radius and give it a value of 5. Calculate the area of a circle with this radius and store it in a variable called area. Print area at the end of your code. (Use the formula: area = π * radius^2, where π (pi) is approximately 3.14159). "
   ]
  },
  {
   "cell_type": "code",
   "execution_count": 22,
   "metadata": {},
   "outputs": [
    {
     "name": "stdout",
     "output_type": "stream",
     "text": [
      "Radius: 5\n",
      "Area of Circle: 78.53975\n"
     ]
    }
   ],
   "source": [
    "radius = 5 \n",
    "area = (3.14159)*radius**2 #Calculating radius of circle\n",
    "\n",
    "print(\"Radius:\", radius)\n",
    "print(\"Area of Circle:\", area)"
   ]
  },
  {
   "cell_type": "markdown",
   "metadata": {},
   "source": [
    "Task 3: Introduction to Data Structures"
   ]
  },
  {
   "cell_type": "markdown",
   "metadata": {},
   "source": [
    "a) Create a list called \"fruits\" containing the following fruits: \"apple,\" \"banana,\" \"orange,\" \"grape,\" and \"kiwi.\" Print the list."
   ]
  },
  {
   "cell_type": "code",
   "execution_count": 26,
   "metadata": {},
   "outputs": [
    {
     "name": "stdout",
     "output_type": "stream",
     "text": [
      "['apple', 'banana', 'orange', 'grape', 'kiwi']\n"
     ]
    }
   ],
   "source": [
    "fruits = [\"apple\",\"banana\", \"orange\", \"grape\", \"kiwi\"] #Creating list\n",
    "\n",
    "print(fruits)"
   ]
  },
  {
   "cell_type": "markdown",
   "metadata": {},
   "source": [
    "b) Create a tuple named \"months\" with the names of the first three months of the year. Print the tuple."
   ]
  },
  {
   "cell_type": "code",
   "execution_count": 27,
   "metadata": {},
   "outputs": [
    {
     "name": "stdout",
     "output_type": "stream",
     "text": [
      "('January', 'Febuary', 'March')\n"
     ]
    }
   ],
   "source": [
    "months= (\"January\", \"Febuary\", \"March\")\n",
    "\n",
    "print(months)"
   ]
  },
  {
   "cell_type": "markdown",
   "metadata": {},
   "source": [
    "Task 4: List Manipulation"
   ]
  },
  {
   "cell_type": "markdown",
   "metadata": {},
   "source": [
    "a) Given the list of numbers below, write a Python program to calculate the sum and average of these numbers. Print both results.\n",
    "   \n",
    "   numbers = [12, 34, 45, 67, 89, 100, 23, 56]\n"
   ]
  },
  {
   "cell_type": "code",
   "execution_count": 64,
   "metadata": {},
   "outputs": [
    {
     "name": "stdout",
     "output_type": "stream",
     "text": [
      "Total Sum is: 426\n",
      "Average 53.25\n"
     ]
    }
   ],
   "source": [
    "num_1 = [12, 34, 45, 67, 89, 100, 23, 56]\n",
    "total_sum=0\n",
    "\n",
    "\n",
    "#Using for loop to sum all numbers in the list\n",
    "for total in num_1:\n",
    "    total_sum +=total\n",
    "avg = total_sum/len(num_1)\n",
    "\n",
    "print(\"Total Sum is:\", total_sum)\n",
    "print(\"Average\", avg)\n"
   ]
  },
  {
   "cell_type": "markdown",
   "metadata": {},
   "source": [
    "b) Remove the first and last elements from the \"fruits\" list created earlier. Print the updated list."
   ]
  },
  {
   "cell_type": "code",
   "execution_count": 5,
   "metadata": {},
   "outputs": [
    {
     "name": "stdout",
     "output_type": "stream",
     "text": [
      "Updated List: ['banana', 'orange', 'grape']\n"
     ]
    }
   ],
   "source": [
    "fruits = [\"apple\",\"banana\", \"orange\", \"grape\", \"kiwi\"]\n",
    "\n",
    "updated_fruits = fruits[1:-1]\n",
    "\n",
    "print(\"Updated List:\",updated_fruits)"
   ]
  },
  {
   "cell_type": "markdown",
   "metadata": {},
   "source": [
    "Task 5: Dictionary Operations"
   ]
  },
  {
   "cell_type": "markdown",
   "metadata": {},
   "source": [
    "a) Create a dictionary named \"capitals\" with three key-value pairs: \"USA\" - \"Washington D.C.,\" \"France\" - \"Paris,\" and \"Japan\" - \"Tokyo.\" Print the dictionary."
   ]
  },
  {
   "cell_type": "code",
   "execution_count": 14,
   "metadata": {},
   "outputs": [
    {
     "name": "stdout",
     "output_type": "stream",
     "text": [
      "{'USA': 'Washington D.C', 'France': 'Paris', 'Japan': 'Tokyo'}\n"
     ]
    }
   ],
   "source": [
    "#Creating a Dictionary\n",
    "capitals = {\"USA\" : \"Washington D.C\",\n",
    "            \"France\" : \"Paris\",\n",
    "            \"Japan\" : \"Tokyo\"}\n",
    "\n",
    "print(capitals)"
   ]
  },
  {
   "cell_type": "markdown",
   "metadata": {},
   "source": [
    "b) Add a new country and its capital to the \"capitals\" dictionary. The country is \"Germany,\" and the capital is \"Berlin.\" Print the updated dictionary."
   ]
  },
  {
   "cell_type": "code",
   "execution_count": 15,
   "metadata": {},
   "outputs": [
    {
     "name": "stdout",
     "output_type": "stream",
     "text": [
      "{'USA': 'Washington D.C', 'France': 'Paris', 'Japan': 'Tokyo', 'Germany': 'Berlin'}\n"
     ]
    }
   ],
   "source": [
    "capitals[\"Germany\"]=\"Berlin\"\n",
    "\n",
    "print(capitals)"
   ]
  },
  {
   "cell_type": "markdown",
   "metadata": {},
   "source": [
    "c) Check if \"France\" exists in the \"capitals\" dictionary. If it does, print \"France is in the dictionary,\" otherwise, print \"France is not in the dictionary.\" "
   ]
  },
  {
   "cell_type": "code",
   "execution_count": 16,
   "metadata": {},
   "outputs": [
    {
     "name": "stdout",
     "output_type": "stream",
     "text": [
      "France is in the dictionary.\n"
     ]
    }
   ],
   "source": [
    "if \"France\" in capitals:\n",
    "    print(\"France is in the dictionary.\")\n",
    "else:\n",
    "    print(\"France is not in the dictionary.\")"
   ]
  },
  {
   "cell_type": "markdown",
   "metadata": {},
   "source": [
    "Task 6: Comparison Operators, Logical Operators and If/Else:"
   ]
  },
  {
   "cell_type": "markdown",
   "metadata": {},
   "source": [
    "a) Create a variable called number that takes user input (we studied the input() function). Next, write a block of code that checks if the number is even or odd (hint: modulo operator. Refer to lab notebook 1). "
   ]
  },
  {
   "cell_type": "code",
   "execution_count": 22,
   "metadata": {},
   "outputs": [
    {
     "name": "stdout",
     "output_type": "stream",
     "text": [
      "20 is an Even Number.\n"
     ]
    }
   ],
   "source": [
    "enter_num = int(input(\"Enter Number:\"))\n",
    "\n",
    "#we will use he modulus operator to check if the number is even or odd\n",
    "if enter_num%2==0:\n",
    "    print(f\"{enter_num} is an Even Number.\")\n",
    "else:\n",
    "    print(f\"{enter_num} is an Odd Number.\")"
   ]
  },
  {
   "cell_type": "markdown",
   "metadata": {},
   "source": [
    "b) Create two variables called age and GPA. Give them values of your choice. Next, write a block of code to check if a student with this age and GPA is eligible for admission. The following are the conditions:\n",
    "   - The student must be at least 18 years old.\n",
    "   - The student's GPA must be 3.0 or higher on a scale of 4.0.\n",
    "   \n",
    "   \n",
    "   Your output should print “Eligible for admission” or “Not eligible for admission”.\n"
   ]
  },
  {
   "cell_type": "code",
   "execution_count": 32,
   "metadata": {},
   "outputs": [
    {
     "name": "stdout",
     "output_type": "stream",
     "text": [
      "Eligible for Admission\n",
      "Age: 19\n",
      "GPA: 3.5\n"
     ]
    }
   ],
   "source": [
    "age_1 = int(input(\"Enter Age:\"))\n",
    "GPA = float(input(\"Enter GPA:\"))\n",
    "\n",
    "\n",
    "if age_1>=18:\n",
    "    if GPA>=3.0 and GPA<=4.0:\n",
    "        print(\"Eligible for Admission\")\n",
    "else:\n",
    "    print(\"Not eligible for Admission\")\n",
    "\n",
    "print(\"Age:\", age_1)\n",
    "print(\"GPA:\", GPA)\n",
    "\n",
    "\n"
   ]
  },
  {
   "cell_type": "markdown",
   "metadata": {},
   "source": [
    "Task 7: Advanced Data Types"
   ]
  },
  {
   "cell_type": "markdown",
   "metadata": {},
   "source": [
    "a) Create a set named \"fruits_set\" containing the following fruits: \"apple,\" \"banana,\" \"orange,\" \"grape,\" and \"kiwi.\" Print the set."
   ]
  },
  {
   "cell_type": "code",
   "execution_count": 35,
   "metadata": {},
   "outputs": [
    {
     "name": "stdout",
     "output_type": "stream",
     "text": [
      "{'orange', 'grape', 'apple', 'kiwi', 'banana'}\n"
     ]
    }
   ],
   "source": [
    "fruit_set = {\"apple\",\"banana\", \"orange\", \"grape\", \"kiwi\"}\n",
    "\n",
    "print(fruit_set)"
   ]
  },
  {
   "cell_type": "markdown",
   "metadata": {},
   "source": [
    "b) Given two sets:\n",
    "\n",
    "   set1 = {1, 2, 3, 4, 5}\n",
    "   \n",
    "   set2 = {3, 4, 5, 6, 7}\n",
    "\n",
    "\n",
    "   Write Python code to perform the following operations and print the results:\n",
    "   - Union of set1 and set2.\n",
    "   - Intersection of set1 and set2.\n",
    "   - Difference between set1 and set2.\n",
    "   - Check if set1 is a subset of set2.\n"
   ]
  },
  {
   "cell_type": "code",
   "execution_count": 46,
   "metadata": {},
   "outputs": [
    {
     "name": "stdout",
     "output_type": "stream",
     "text": [
      "Union: {1, 2, 3, 4, 5, 6, 7}\n",
      "Intersection: {3, 4, 5}\n",
      "Difference: {1, 2}\n",
      "Is Subset: False\n"
     ]
    }
   ],
   "source": [
    "#Make 2 Sets\n",
    "set1 = {1, 2, 3, 4, 5}\n",
    "set2 = {3, 4, 5, 6, 7}\n",
    "\n",
    "#For Union\n",
    "union_set = set1.union(set2)\n",
    "print(\"Union:\",union_set)\n",
    "\n",
    "#For Intersection\n",
    "intersec_set = set1.intersection(set2)\n",
    "print(\"Intersection:\", intersec_set)\n",
    "\n",
    "#For Difference\n",
    "diff_set = set1.difference(set2)\n",
    "print(\"Difference:\", diff_set)\n",
    "\n",
    "#For Subset\n",
    "sub_set = set1.issubset(set2)\n",
    "print(\"Is Subset:\", sub_set)"
   ]
  },
  {
   "cell_type": "markdown",
   "metadata": {},
   "source": [
    "Task 8: Strings Manipulation"
   ]
  },
  {
   "cell_type": "markdown",
   "metadata": {},
   "source": [
    "a) Create a string variable containing the following sentence:\n",
    "\n",
    "   \"Python programming is fun and powerful!\"\n",
    "\n",
    "   Write Python code to do the following and print the results:\n",
    "   - Find the length of the string.\n",
    "   - Convert the string to uppercase.\n",
    "   - Replace \"fun\" with \"exciting.\"\n",
    "   - Check if the string contains the word \"Python.\"\n",
    "   - Split the string into a list of words.\n"
   ]
  },
  {
   "cell_type": "code",
   "execution_count": 60,
   "metadata": {},
   "outputs": [
    {
     "name": "stdout",
     "output_type": "stream",
     "text": [
      "Length of Sentence: 39\n",
      "Upper Case: PYTHON PROGRAMMING IS FUN AND POWERFUL!\n",
      "Updated Sentence: Python programming is exciting and powerful!\n",
      "Python in string: True\n",
      "List of Words: ['Python', 'programming', 'is', 'fun', 'and', 'powerful!']\n"
     ]
    }
   ],
   "source": [
    "#Sentence\n",
    "sentence = \"Python programming is fun and powerful!\"\n",
    "\n",
    "#For length of the string\n",
    "sent_len = len(sentence)\n",
    "print(\"Length of Sentence:\", sent_len)\n",
    "\n",
    "#For converting to UPPER Case\n",
    "upper_sent = sentence.upper()\n",
    "print(\"Upper Case:\", upper_sent)\n",
    "\n",
    "#Replace fun with exciting\n",
    "print(\"Updated Sentence:\",sentence.replace(\"fun\",\"exciting\"))\n",
    "\n",
    "#Check for Python in string\n",
    "print(\"Python in string:\",\"Python\" in sentence)\n",
    "\n",
    "#Split string to list\n",
    "print(\"List of Words:\",sentence.split())\n"
   ]
  },
  {
   "cell_type": "code",
   "execution_count": null,
   "metadata": {},
   "outputs": [],
   "source": []
  }
 ],
 "metadata": {
  "kernelspec": {
   "display_name": "Python 3",
   "language": "python",
   "name": "python3"
  },
  "language_info": {
   "codemirror_mode": {
    "name": "ipython",
    "version": 3
   },
   "file_extension": ".py",
   "mimetype": "text/x-python",
   "name": "python",
   "nbconvert_exporter": "python",
   "pygments_lexer": "ipython3",
   "version": "3.11.4"
  }
 },
 "nbformat": 4,
 "nbformat_minor": 2
}
